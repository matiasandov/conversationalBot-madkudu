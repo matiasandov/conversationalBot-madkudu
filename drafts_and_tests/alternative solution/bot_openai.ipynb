{
 "cells": [
  {
   "cell_type": "code",
   "execution_count": 5,
   "metadata": {},
   "outputs": [
    {
     "data": {
      "text/plain": [
       "True"
      ]
     },
     "execution_count": 5,
     "metadata": {},
     "output_type": "execute_result"
    }
   ],
   "source": [
    "import dotenv\n",
    "dotenv.load_dotenv()"
   ]
  },
  {
   "cell_type": "markdown",
   "metadata": {},
   "source": [
    "# Conversational bot for Madkudu services\n",
    "\n",
    "The whole idea is to use "
   ]
  },
  {
   "cell_type": "markdown",
   "metadata": {},
   "source": [
    "# 1. Load data from Madkudu\n",
    "\n"
   ]
  },
  {
   "cell_type": "code",
   "execution_count": 6,
   "metadata": {},
   "outputs": [],
   "source": [
    "\n",
    "from langchain.indexes import VectorstoreIndexCreator"
   ]
  },
  {
   "cell_type": "markdown",
   "metadata": {},
   "source": [
    "I could have also chosen to download some of these pdf files directly https://support.madkudu.com/hc/en-us/article_attachments/360052888911 Instead of making a crawler"
   ]
  },
  {
   "cell_type": "code",
   "execution_count": 28,
   "metadata": {},
   "outputs": [],
   "source": [
    "\n",
    "from langchain.document_loaders import TextLoader\n",
    "loader = TextLoader('all.txt', encoding='utf-8')\n",
    "documents = loader.load()"
   ]
  },
  {
   "cell_type": "markdown",
   "metadata": {},
   "source": [
    "# 2. Split data into chunks\n",
    "\n",
    "RecursiveCharacterTextSplitter is more optimized than the CharacterTextSplitter"
   ]
  },
  {
   "cell_type": "code",
   "execution_count": 48,
   "metadata": {},
   "outputs": [],
   "source": [
    "from langchain.text_splitter import RecursiveCharacterTextSplitter\n",
    "#Alternative option\n",
    "#text_splitter = CharacterTextSplitter(chunk_size=500, chunk_overlap=50)\n",
    "\n",
    "text_splitter = RecursiveCharacterTextSplitter(\n",
    "    #i chose 500 because the data is not that \n",
    "    # number of characters\n",
    "    chunk_size = 500, \n",
    "    #How many chars are going to be overlapped in between each chunk\n",
    "    chunk_overlap = 250,\n",
    "    \n",
    "    length_function = len,\n",
    "    \n",
    "    #includes index of character where the separation between each chunk is done\n",
    "    add_start_index = True\n",
    "    \n",
    "    )\n",
    "\n",
    "chunks = text_splitter.split_documents(documents)"
   ]
  },
  {
   "cell_type": "markdown",
   "metadata": {},
   "source": [
    "The data was split into 113 chunks of 500 chars "
   ]
  },
  {
   "cell_type": "code",
   "execution_count": 49,
   "metadata": {},
   "outputs": [
    {
     "data": {
      "text/plain": [
       "113"
      ]
     },
     "execution_count": 49,
     "metadata": {},
     "output_type": "execute_result"
    }
   ],
   "source": [
    "len(chunks)"
   ]
  },
  {
   "cell_type": "code",
   "execution_count": 50,
   "metadata": {},
   "outputs": [
    {
     "data": {
      "text/plain": [
       "\"Static enrichment: MadKudu partners with Clearbit, HG data, and PredictLeads to enrich your data. Are you already purchasing through ZoomInfo, Bombora, Datafox? No problem, MadKudu can also use this data. \\nCRM information: actually any data from your CRM (Leads, Contacts, Accounts, Opportunities), be it provided by a 3rd party or from your Marketing and Sales input, can be pulled to MadKudu's platform.\""
      ]
     },
     "execution_count": 50,
     "metadata": {},
     "output_type": "execute_result"
    }
   ],
   "source": [
    "chunks[15].page_content"
   ]
  },
  {
   "cell_type": "markdown",
   "metadata": {},
   "source": [
    "Source could have been useful if I separated each url into different txt files to have a better documentation. So perhaps I can implement this at the end."
   ]
  },
  {
   "cell_type": "code",
   "execution_count": 51,
   "metadata": {},
   "outputs": [
    {
     "data": {
      "text/plain": [
       "{'source': 'all.txt', 'start_index': 3951}"
      ]
     },
     "execution_count": 51,
     "metadata": {},
     "output_type": "execute_result"
    }
   ],
   "source": [
    "chunks[15].metadata"
   ]
  },
  {
   "cell_type": "markdown",
   "metadata": {},
   "source": [
    "# 3. Store chunks in a database - Chroma\n",
    "\n",
    "I will need to use my OpenAi account to access to chroma and to use the embedding tool to embed each chunk.\n",
    "\n",
    "We are going to create and save to disk a persistent directory in case I want to scale this in the future. This way I can copy the directory and deploy it aa a file. Example: accesing to this database through a Lambda function"
   ]
  },
  {
   "cell_type": "code",
   "execution_count": 60,
   "metadata": {},
   "outputs": [],
   "source": [
    "from langchain.document_loaders import DirectoryLoader\n",
    "from langchain.schema import Document\n",
    "from langchain.embeddings import OpenAIEmbeddings\n",
    "from langchain.vectorstores.chroma import Chroma\n",
    "import os\n",
    "import shutil\n",
    "\n",
    "CHROMA_PATH = \"chroma\"\n",
    "DATA_PATH = \"data/books\""
   ]
  },
  {
   "cell_type": "code",
   "execution_count": 61,
   "metadata": {},
   "outputs": [],
   "source": [
    "\n",
    "def save_to_chroma(chunks: list[Document]):\n",
    "    # Clear out the database first.\n",
    "    if os.path.exists(CHROMA_PATH):\n",
    "        shutil.rmtree(CHROMA_PATH)\n",
    "\n",
    "    # Create a new DB from the documents.\n",
    "    db = Chroma.from_documents(\n",
    "        chunks, OpenAIEmbeddings(), persist_directory=CHROMA_PATH\n",
    "    )\n",
    "    db.persist()\n",
    "    print(f\"Saved {len(chunks)} chunks to {CHROMA_PATH}.\")"
   ]
  },
  {
   "cell_type": "code",
   "execution_count": 56,
   "metadata": {},
   "outputs": [
    {
     "name": "stdout",
     "output_type": "stream",
     "text": [
      "Defaulting to user installation because normal site-packages is not writeable\n",
      "Collecting chromadb\n",
      "  Downloading chromadb-0.4.24-py3-none-any.whl (525 kB)\n",
      "     ---------------------------------------- 0.0/525.5 kB ? eta -:--:--\n",
      "     -------------- ----------------------- 204.8/525.5 kB 4.1 MB/s eta 0:00:01\n",
      "     -------------------------------- ----- 450.6/525.5 kB 5.6 MB/s eta 0:00:01\n",
      "     -------------------------------------- 525.5/525.5 kB 4.7 MB/s eta 0:00:00\n",
      "Collecting build>=1.0.3\n",
      "  Downloading build-1.1.1-py3-none-any.whl (19 kB)\n",
      "Requirement already satisfied: requests>=2.28 in c:\\users\\matts\\appdata\\roaming\\python\\python311\\site-packages (from chromadb) (2.31.0)\n",
      "Requirement already satisfied: pydantic>=1.9 in c:\\users\\matts\\appdata\\roaming\\python\\python311\\site-packages (from chromadb) (2.6.4)\n",
      "Collecting chroma-hnswlib==0.7.3\n",
      "  Downloading chroma_hnswlib-0.7.3-cp311-cp311-win_amd64.whl (151 kB)\n",
      "     ---------------------------------------- 0.0/151.6 kB ? eta -:--:--\n",
      "     -------------------------------------- 151.6/151.6 kB 4.6 MB/s eta 0:00:00\n",
      "Collecting fastapi>=0.95.2\n",
      "  Downloading fastapi-0.110.0-py3-none-any.whl (92 kB)\n",
      "     ---------------------------------------- 0.0/92.1 kB ? eta -:--:--\n",
      "     ---------------------------------------- 92.1/92.1 kB ? eta 0:00:00\n",
      "Collecting uvicorn[standard]>=0.18.3\n",
      "  Downloading uvicorn-0.29.0-py3-none-any.whl (60 kB)\n",
      "     ---------------------------------------- 0.0/60.8 kB ? eta -:--:--\n",
      "     ---------------------------------------- 60.8/60.8 kB 3.2 MB/s eta 0:00:00\n",
      "Requirement already satisfied: numpy>=1.22.5 in c:\\users\\matts\\appdata\\roaming\\python\\python311\\site-packages (from chromadb) (1.23.5)\n",
      "Collecting posthog>=2.4.0\n",
      "  Downloading posthog-3.5.0-py2.py3-none-any.whl (41 kB)\n",
      "     ---------------------------------------- 0.0/41.3 kB ? eta -:--:--\n",
      "     ---------------------------------------- 41.3/41.3 kB 1.9 MB/s eta 0:00:00\n",
      "Requirement already satisfied: typing-extensions>=4.5.0 in c:\\users\\matts\\appdata\\roaming\\python\\python311\\site-packages (from chromadb) (4.9.0)\n",
      "Collecting pulsar-client>=3.1.0\n",
      "  Downloading pulsar_client-3.4.0-cp311-cp311-win_amd64.whl (3.4 MB)\n",
      "     ---------------------------------------- 0.0/3.4 MB ? eta -:--:--\n",
      "     -- ------------------------------------- 0.2/3.4 MB 5.3 MB/s eta 0:00:01\n",
      "     ----- ---------------------------------- 0.5/3.4 MB 6.3 MB/s eta 0:00:01\n",
      "     --------- ------------------------------ 0.8/3.4 MB 5.8 MB/s eta 0:00:01\n",
      "     ------------ --------------------------- 1.1/3.4 MB 5.6 MB/s eta 0:00:01\n",
      "     ---------------- ----------------------- 1.4/3.4 MB 6.5 MB/s eta 0:00:01\n",
      "     ------------------- -------------------- 1.7/3.4 MB 6.3 MB/s eta 0:00:01\n",
      "     --------------------- ------------------ 1.9/3.4 MB 5.9 MB/s eta 0:00:01\n",
      "     ------------------------- -------------- 2.2/3.4 MB 6.2 MB/s eta 0:00:01\n",
      "     ----------------------------- ---------- 2.5/3.4 MB 6.4 MB/s eta 0:00:01\n",
      "     ---------------------------------- ----- 3.0/3.4 MB 6.4 MB/s eta 0:00:01\n",
      "     ------------------------------------- -- 3.3/3.4 MB 6.5 MB/s eta 0:00:01\n",
      "     ---------------------------------------- 3.4/3.4 MB 6.5 MB/s eta 0:00:00\n",
      "Collecting onnxruntime>=1.14.1\n",
      "  Downloading onnxruntime-1.17.1-cp311-cp311-win_amd64.whl (5.6 MB)\n",
      "     ---------------------------------------- 0.0/5.6 MB ? eta -:--:--\n",
      "     -- ------------------------------------- 0.3/5.6 MB 9.6 MB/s eta 0:00:01\n",
      "     ---- ----------------------------------- 0.6/5.6 MB 7.1 MB/s eta 0:00:01\n",
      "     ------ --------------------------------- 0.9/5.6 MB 7.8 MB/s eta 0:00:01\n",
      "     -------- ------------------------------- 1.2/5.6 MB 7.1 MB/s eta 0:00:01\n",
      "     ---------- ----------------------------- 1.5/5.6 MB 6.6 MB/s eta 0:00:01\n",
      "     ------------- -------------------------- 1.8/5.6 MB 7.3 MB/s eta 0:00:01\n",
      "     --------------- ------------------------ 2.1/5.6 MB 6.8 MB/s eta 0:00:01\n",
      "     ---------------- ----------------------- 2.4/5.6 MB 6.8 MB/s eta 0:00:01\n",
      "     -------------------- ------------------- 2.9/5.6 MB 7.1 MB/s eta 0:00:01\n",
      "     --------------------- ------------------ 3.0/5.6 MB 6.6 MB/s eta 0:00:01\n",
      "     ------------------------- -------------- 3.5/5.6 MB 7.0 MB/s eta 0:00:01\n",
      "     -------------------------- ------------- 3.7/5.6 MB 6.8 MB/s eta 0:00:01\n",
      "     ----------------------------- ---------- 4.2/5.6 MB 7.0 MB/s eta 0:00:01\n",
      "     ------------------------------- -------- 4.4/5.6 MB 6.9 MB/s eta 0:00:01\n",
      "     ---------------------------------- ----- 4.9/5.6 MB 7.1 MB/s eta 0:00:01\n",
      "     ------------------------------------ --- 5.2/5.6 MB 7.0 MB/s eta 0:00:01\n",
      "     -------------------------------------- - 5.5/5.6 MB 7.0 MB/s eta 0:00:01\n",
      "     ---------------------------------------- 5.6/5.6 MB 6.8 MB/s eta 0:00:00\n",
      "Collecting opentelemetry-api>=1.2.0\n",
      "  Downloading opentelemetry_api-1.23.0-py3-none-any.whl (58 kB)\n",
      "     ---------------------------------------- 0.0/58.4 kB ? eta -:--:--\n",
      "     ---------------------------------------- 58.4/58.4 kB 3.0 MB/s eta 0:00:00\n",
      "Collecting opentelemetry-exporter-otlp-proto-grpc>=1.2.0\n",
      "  Downloading opentelemetry_exporter_otlp_proto_grpc-1.23.0-py3-none-any.whl (18 kB)\n",
      "Collecting opentelemetry-instrumentation-fastapi>=0.41b0\n",
      "  Downloading opentelemetry_instrumentation_fastapi-0.44b0-py3-none-any.whl (11 kB)\n",
      "Collecting opentelemetry-sdk>=1.2.0\n",
      "  Downloading opentelemetry_sdk-1.23.0-py3-none-any.whl (105 kB)\n",
      "     ---------------------------------------- 0.0/105.7 kB ? eta -:--:--\n",
      "     -------------------------------------- 105.7/105.7 kB 6.4 MB/s eta 0:00:00\n",
      "Requirement already satisfied: tokenizers>=0.13.2 in c:\\users\\matts\\appdata\\roaming\\python\\python311\\site-packages (from chromadb) (0.13.2)\n",
      "Collecting pypika>=0.48.9\n",
      "  Downloading PyPika-0.48.9.tar.gz (67 kB)\n",
      "     ---------------------------------------- 0.0/67.3 kB ? eta -:--:--\n",
      "     ---------------------------------------- 67.3/67.3 kB ? eta 0:00:00\n",
      "  Installing build dependencies: started\n",
      "  Installing build dependencies: finished with status 'done'\n",
      "  Getting requirements to build wheel: started\n",
      "  Getting requirements to build wheel: finished with status 'done'\n",
      "  Preparing metadata (pyproject.toml): started\n",
      "  Preparing metadata (pyproject.toml): finished with status 'done'\n",
      "Requirement already satisfied: tqdm>=4.65.0 in c:\\users\\matts\\appdata\\roaming\\python\\python311\\site-packages (from chromadb) (4.65.0)\n",
      "Collecting overrides>=7.3.1\n",
      "  Downloading overrides-7.7.0-py3-none-any.whl (17 kB)\n",
      "Collecting importlib-resources\n",
      "  Downloading importlib_resources-6.4.0-py3-none-any.whl (38 kB)\n",
      "Requirement already satisfied: grpcio>=1.58.0 in c:\\users\\matts\\appdata\\roaming\\python\\python311\\site-packages (from chromadb) (1.62.1)\n",
      "Collecting bcrypt>=4.0.1\n",
      "  Downloading bcrypt-4.1.2-cp39-abi3-win_amd64.whl (158 kB)\n",
      "     ---------------------------------------- 0.0/158.3 kB ? eta -:--:--\n",
      "     -------------------------------------- 158.3/158.3 kB 9.3 MB/s eta 0:00:00\n",
      "Collecting typer>=0.9.0\n",
      "  Downloading typer-0.10.0-py3-none-any.whl (46 kB)\n",
      "     ---------------------------------------- 0.0/46.0 kB ? eta -:--:--\n",
      "     ---------------------------------------- 46.0/46.0 kB 2.2 MB/s eta 0:00:00\n",
      "Collecting kubernetes>=28.1.0\n",
      "  Downloading kubernetes-29.0.0-py2.py3-none-any.whl (1.6 MB)\n",
      "     ---------------------------------------- 0.0/1.6 MB ? eta -:--:--\n",
      "     ---- ----------------------------------- 0.2/1.6 MB 9.6 MB/s eta 0:00:01\n",
      "     ------------ --------------------------- 0.5/1.6 MB 6.2 MB/s eta 0:00:01\n",
      "     ----------------------- ---------------- 0.9/1.6 MB 7.3 MB/s eta 0:00:01\n",
      "     ------------------------------- -------- 1.3/1.6 MB 7.3 MB/s eta 0:00:01\n",
      "     ---------------------------------------- 1.6/1.6 MB 7.2 MB/s eta 0:00:00\n",
      "Collecting tenacity>=8.2.3\n",
      "  Downloading tenacity-8.2.3-py3-none-any.whl (24 kB)\n",
      "Collecting PyYAML>=6.0.0\n",
      "  Downloading PyYAML-6.0.1-cp311-cp311-win_amd64.whl (144 kB)\n",
      "     ---------------------------------------- 0.0/144.7 kB ? eta -:--:--\n",
      "     -------------------------------------- 144.7/144.7 kB 8.4 MB/s eta 0:00:00\n",
      "Collecting mmh3>=4.0.1\n",
      "  Downloading mmh3-4.1.0-cp311-cp311-win_amd64.whl (31 kB)\n",
      "Requirement already satisfied: orjson>=3.9.12 in c:\\users\\matts\\appdata\\roaming\\python\\python311\\site-packages (from chromadb) (3.9.15)\n",
      "Requirement already satisfied: packaging>=19.0 in c:\\users\\matts\\appdata\\roaming\\python\\python311\\site-packages (from build>=1.0.3->chromadb) (23.2)\n",
      "Collecting pyproject_hooks\n",
      "  Downloading pyproject_hooks-1.0.0-py3-none-any.whl (9.3 kB)\n",
      "Requirement already satisfied: colorama in c:\\users\\matts\\appdata\\roaming\\python\\python311\\site-packages (from build>=1.0.3->chromadb) (0.4.6)\n",
      "Collecting starlette<0.37.0,>=0.36.3\n",
      "  Downloading starlette-0.36.3-py3-none-any.whl (71 kB)\n",
      "     ---------------------------------------- 0.0/71.5 kB ? eta -:--:--\n",
      "     ---------------------------------------- 71.5/71.5 kB ? eta 0:00:00\n",
      "Requirement already satisfied: certifi>=14.05.14 in c:\\users\\matts\\appdata\\roaming\\python\\python311\\site-packages (from kubernetes>=28.1.0->chromadb) (2022.12.7)\n",
      "Requirement already satisfied: six>=1.9.0 in c:\\users\\matts\\appdata\\roaming\\python\\python311\\site-packages (from kubernetes>=28.1.0->chromadb) (1.16.0)\n",
      "Requirement already satisfied: python-dateutil>=2.5.3 in c:\\users\\matts\\appdata\\roaming\\python\\python311\\site-packages (from kubernetes>=28.1.0->chromadb) (2.8.2)\n",
      "Requirement already satisfied: google-auth>=1.0.1 in c:\\program files\\python311\\lib\\site-packages (from kubernetes>=28.1.0->chromadb) (2.16.2)\n",
      "Collecting websocket-client!=0.40.0,!=0.41.*,!=0.42.*,>=0.32.0\n",
      "  Downloading websocket_client-1.7.0-py3-none-any.whl (58 kB)\n",
      "     ---------------------------------------- 0.0/58.5 kB ? eta -:--:--\n",
      "     ---------------------------------------- 58.5/58.5 kB 3.2 MB/s eta 0:00:00\n",
      "Requirement already satisfied: requests-oauthlib in c:\\program files\\python311\\lib\\site-packages (from kubernetes>=28.1.0->chromadb) (1.3.1)\n",
      "Requirement already satisfied: oauthlib>=3.2.2 in c:\\users\\matts\\appdata\\roaming\\python\\python311\\site-packages (from kubernetes>=28.1.0->chromadb) (3.2.2)\n",
      "Requirement already satisfied: urllib3>=1.24.2 in c:\\users\\matts\\appdata\\roaming\\python\\python311\\site-packages (from kubernetes>=28.1.0->chromadb) (1.26.14)\n",
      "Collecting coloredlogs\n",
      "  Downloading coloredlogs-15.0.1-py2.py3-none-any.whl (46 kB)\n",
      "     ---------------------------------------- 0.0/46.0 kB ? eta -:--:--\n",
      "     ---------------------------------------- 46.0/46.0 kB 2.4 MB/s eta 0:00:00\n",
      "Requirement already satisfied: flatbuffers in c:\\users\\matts\\appdata\\roaming\\python\\python311\\site-packages (from onnxruntime>=1.14.1->chromadb) (24.3.7)\n",
      "Collecting numpy>=1.22.5\n",
      "  Downloading numpy-1.26.4-cp311-cp311-win_amd64.whl (15.8 MB)\n",
      "     ---------------------------------------- 0.0/15.8 MB ? eta -:--:--\n",
      "      --------------------------------------- 0.2/15.8 MB 6.9 MB/s eta 0:00:03\n",
      "     - -------------------------------------- 0.4/15.8 MB 6.2 MB/s eta 0:00:03\n",
      "     -- ------------------------------------- 0.9/15.8 MB 6.1 MB/s eta 0:00:03\n",
      "     -- ------------------------------------- 1.1/15.8 MB 6.6 MB/s eta 0:00:03\n",
      "     --- ------------------------------------ 1.5/15.8 MB 6.9 MB/s eta 0:00:03\n",
      "     ---- ----------------------------------- 1.6/15.8 MB 6.4 MB/s eta 0:00:03\n",
      "     ----- ---------------------------------- 2.2/15.8 MB 6.7 MB/s eta 0:00:03\n",
      "     ------ --------------------------------- 2.4/15.8 MB 6.9 MB/s eta 0:00:02\n",
      "     ------ --------------------------------- 2.7/15.8 MB 7.0 MB/s eta 0:00:02\n",
      "     -------- ------------------------------- 3.2/15.8 MB 6.8 MB/s eta 0:00:02\n",
      "     -------- ------------------------------- 3.5/15.8 MB 7.0 MB/s eta 0:00:02\n",
      "     --------- ------------------------------ 3.8/15.8 MB 6.7 MB/s eta 0:00:02\n",
      "     ---------- ----------------------------- 4.2/15.8 MB 7.0 MB/s eta 0:00:02\n",
      "     ----------- ---------------------------- 4.4/15.8 MB 6.8 MB/s eta 0:00:02\n",
      "     ----------- ---------------------------- 4.6/15.8 MB 6.7 MB/s eta 0:00:02\n",
      "     ------------ --------------------------- 5.1/15.8 MB 6.8 MB/s eta 0:00:02\n",
      "     ------------ --------------------------- 5.1/15.8 MB 6.8 MB/s eta 0:00:02\n",
      "     ------------- -------------------------- 5.4/15.8 MB 6.7 MB/s eta 0:00:02\n",
      "     -------------- ------------------------- 5.8/15.8 MB 6.7 MB/s eta 0:00:02\n",
      "     --------------- ------------------------ 6.1/15.8 MB 6.7 MB/s eta 0:00:02\n",
      "     ---------------- ----------------------- 6.3/15.8 MB 6.5 MB/s eta 0:00:02\n",
      "     ---------------- ----------------------- 6.6/15.8 MB 6.6 MB/s eta 0:00:02\n",
      "     ----------------- ---------------------- 6.9/15.8 MB 6.5 MB/s eta 0:00:02\n",
      "     ------------------ --------------------- 7.3/15.8 MB 6.5 MB/s eta 0:00:02\n",
      "     ------------------ --------------------- 7.4/15.8 MB 6.5 MB/s eta 0:00:02\n",
      "     ------------------- -------------------- 7.6/15.8 MB 6.4 MB/s eta 0:00:02\n",
      "     -------------------- ------------------- 8.2/15.8 MB 6.6 MB/s eta 0:00:02\n",
      "     -------------------- ------------------- 8.2/15.8 MB 6.6 MB/s eta 0:00:02\n",
      "     ---------------------- ----------------- 8.7/15.8 MB 6.5 MB/s eta 0:00:02\n",
      "     ---------------------- ----------------- 8.8/15.8 MB 6.3 MB/s eta 0:00:02\n",
      "     ----------------------- ---------------- 9.2/15.8 MB 6.4 MB/s eta 0:00:02\n",
      "     ------------------------ --------------- 9.7/15.8 MB 6.6 MB/s eta 0:00:01\n",
      "     ------------------------- -------------- 9.9/15.8 MB 6.6 MB/s eta 0:00:01\n",
      "     ------------------------- -------------- 10.2/15.8 MB 6.6 MB/s eta 0:00:01\n",
      "     -------------------------- ------------- 10.5/15.8 MB 6.6 MB/s eta 0:00:01\n",
      "     --------------------------- ------------ 10.8/15.8 MB 6.7 MB/s eta 0:00:01\n",
      "     --------------------------- ------------ 11.0/15.8 MB 6.7 MB/s eta 0:00:01\n",
      "     ---------------------------- ----------- 11.4/15.8 MB 6.7 MB/s eta 0:00:01\n",
      "     ----------------------------- ---------- 11.6/15.8 MB 6.7 MB/s eta 0:00:01\n",
      "     ------------------------------ --------- 11.9/15.8 MB 6.8 MB/s eta 0:00:01\n",
      "     ------------------------------ --------- 12.1/15.8 MB 6.6 MB/s eta 0:00:01\n",
      "     ------------------------------- -------- 12.4/15.8 MB 6.6 MB/s eta 0:00:01\n",
      "     -------------------------------- ------- 12.7/15.8 MB 6.7 MB/s eta 0:00:01\n",
      "     --------------------------------- ------ 13.1/15.8 MB 6.7 MB/s eta 0:00:01\n",
      "     --------------------------------- ------ 13.2/15.8 MB 6.6 MB/s eta 0:00:01\n",
      "     ---------------------------------- ----- 13.6/15.8 MB 6.6 MB/s eta 0:00:01\n",
      "     ---------------------------------- ----- 13.8/15.8 MB 6.7 MB/s eta 0:00:01\n",
      "     ----------------------------------- ---- 14.2/15.8 MB 6.5 MB/s eta 0:00:01\n",
      "     ------------------------------------ --- 14.4/15.8 MB 6.5 MB/s eta 0:00:01\n",
      "     ------------------------------------- -- 14.7/15.8 MB 6.7 MB/s eta 0:00:01\n",
      "     ------------------------------------- -- 15.0/15.8 MB 6.6 MB/s eta 0:00:01\n",
      "     ------------------------------------- -- 15.0/15.8 MB 6.4 MB/s eta 0:00:01\n",
      "     ---------------------------------------  15.6/15.8 MB 6.5 MB/s eta 0:00:01\n",
      "     ---------------------------------------  15.8/15.8 MB 6.6 MB/s eta 0:00:01\n",
      "     ---------------------------------------- 15.8/15.8 MB 6.5 MB/s eta 0:00:00\n",
      "Requirement already satisfied: protobuf in c:\\users\\matts\\appdata\\roaming\\python\\python311\\site-packages (from onnxruntime>=1.14.1->chromadb) (4.25.3)\n",
      "Collecting sympy\n",
      "  Downloading sympy-1.12-py3-none-any.whl (5.7 MB)\n",
      "     ---------------------------------------- 0.0/5.7 MB ? eta -:--:--\n",
      "     - -------------------------------------- 0.2/5.7 MB 6.3 MB/s eta 0:00:01\n",
      "     - -------------------------------------- 0.3/5.7 MB 4.0 MB/s eta 0:00:02\n",
      "     ----- ---------------------------------- 0.7/5.7 MB 6.7 MB/s eta 0:00:01\n",
      "     ------ --------------------------------- 0.9/5.7 MB 5.8 MB/s eta 0:00:01\n",
      "     ------- -------------------------------- 1.1/5.7 MB 5.0 MB/s eta 0:00:01\n",
      "     -------- ------------------------------- 1.3/5.7 MB 5.9 MB/s eta 0:00:01\n",
      "     ------------ --------------------------- 1.8/5.7 MB 5.9 MB/s eta 0:00:01\n",
      "     -------------- ------------------------- 2.0/5.7 MB 6.1 MB/s eta 0:00:01\n",
      "     --------------- ------------------------ 2.2/5.7 MB 6.1 MB/s eta 0:00:01\n",
      "     ----------------- ---------------------- 2.5/5.7 MB 6.1 MB/s eta 0:00:01\n",
      "     -------------------- ------------------- 2.9/5.7 MB 6.4 MB/s eta 0:00:01\n",
      "     ---------------------- ----------------- 3.2/5.7 MB 6.4 MB/s eta 0:00:01\n",
      "     ------------------------ --------------- 3.5/5.7 MB 6.3 MB/s eta 0:00:01\n",
      "     ------------------------- -------------- 3.7/5.7 MB 6.3 MB/s eta 0:00:01\n",
      "     ---------------------------- ----------- 4.1/5.7 MB 6.4 MB/s eta 0:00:01\n",
      "     ----------------------------- ---------- 4.2/5.7 MB 6.4 MB/s eta 0:00:01\n",
      "     -------------------------------- ------- 4.6/5.7 MB 6.4 MB/s eta 0:00:01\n",
      "     --------------------------------- ------ 4.8/5.7 MB 6.4 MB/s eta 0:00:01\n",
      "     ---------------------------------- ----- 5.0/5.7 MB 6.2 MB/s eta 0:00:01\n",
      "     ------------------------------------- -- 5.4/5.7 MB 6.4 MB/s eta 0:00:01\n",
      "     ---------------------------------------  5.7/5.7 MB 6.4 MB/s eta 0:00:01\n",
      "     ---------------------------------------- 5.7/5.7 MB 6.2 MB/s eta 0:00:00\n",
      "Collecting deprecated>=1.2.6\n",
      "  Downloading Deprecated-1.2.14-py2.py3-none-any.whl (9.6 kB)\n",
      "Requirement already satisfied: importlib-metadata<7.0,>=6.0 in c:\\users\\matts\\appdata\\roaming\\python\\python311\\site-packages (from opentelemetry-api>=1.2.0->chromadb) (6.0.0)\n",
      "Collecting googleapis-common-protos~=1.52\n",
      "  Downloading googleapis_common_protos-1.63.0-py2.py3-none-any.whl (229 kB)\n",
      "     ---------------------------------------- 0.0/229.1 kB ? eta -:--:--\n",
      "     -------------------------------------  225.3/229.1 kB 6.7 MB/s eta 0:00:01\n",
      "     -------------------------------------- 229.1/229.1 kB 4.7 MB/s eta 0:00:00\n",
      "Collecting opentelemetry-exporter-otlp-proto-common==1.23.0\n",
      "  Downloading opentelemetry_exporter_otlp_proto_common-1.23.0-py3-none-any.whl (17 kB)\n",
      "Collecting opentelemetry-proto==1.23.0\n",
      "  Downloading opentelemetry_proto-1.23.0-py3-none-any.whl (50 kB)\n",
      "     ---------------------------------------- 0.0/50.8 kB ? eta -:--:--\n",
      "     ---------------------------------------- 50.8/50.8 kB ? eta 0:00:00\n",
      "Collecting opentelemetry-instrumentation-asgi==0.44b0\n",
      "  Downloading opentelemetry_instrumentation_asgi-0.44b0-py3-none-any.whl (14 kB)\n",
      "Collecting opentelemetry-instrumentation==0.44b0\n",
      "  Downloading opentelemetry_instrumentation-0.44b0-py3-none-any.whl (28 kB)\n",
      "Collecting opentelemetry-semantic-conventions==0.44b0\n",
      "  Downloading opentelemetry_semantic_conventions-0.44b0-py3-none-any.whl (36 kB)\n",
      "Collecting opentelemetry-util-http==0.44b0\n",
      "  Downloading opentelemetry_util_http-0.44b0-py3-none-any.whl (6.9 kB)\n",
      "Requirement already satisfied: setuptools>=16.0 in c:\\program files\\python311\\lib\\site-packages (from opentelemetry-instrumentation==0.44b0->opentelemetry-instrumentation-fastapi>=0.41b0->chromadb) (65.5.0)\n",
      "Requirement already satisfied: wrapt<2.0.0,>=1.0.0 in c:\\users\\matts\\appdata\\roaming\\python\\python311\\site-packages (from opentelemetry-instrumentation==0.44b0->opentelemetry-instrumentation-fastapi>=0.41b0->chromadb) (1.14.1)\n",
      "Requirement already satisfied: asgiref~=3.0 in c:\\users\\matts\\appdata\\roaming\\python\\python311\\site-packages (from opentelemetry-instrumentation-asgi==0.44b0->opentelemetry-instrumentation-fastapi>=0.41b0->chromadb) (3.6.0)\n",
      "Collecting monotonic>=1.5\n",
      "  Downloading monotonic-1.6-py2.py3-none-any.whl (8.2 kB)\n",
      "Collecting backoff>=1.10.0\n",
      "  Downloading backoff-2.2.1-py3-none-any.whl (15 kB)\n",
      "Requirement already satisfied: annotated-types>=0.4.0 in c:\\users\\matts\\appdata\\roaming\\python\\python311\\site-packages (from pydantic>=1.9->chromadb) (0.6.0)\n",
      "Requirement already satisfied: pydantic-core==2.16.3 in c:\\users\\matts\\appdata\\roaming\\python\\python311\\site-packages (from pydantic>=1.9->chromadb) (2.16.3)\n",
      "Requirement already satisfied: charset-normalizer<4,>=2 in c:\\users\\matts\\appdata\\roaming\\python\\python311\\site-packages (from requests>=2.28->chromadb) (3.0.1)\n",
      "Requirement already satisfied: idna<4,>=2.5 in c:\\users\\matts\\appdata\\roaming\\python\\python311\\site-packages (from requests>=2.28->chromadb) (3.4)\n",
      "Requirement already satisfied: click<9.0.0,>=7.1.1 in c:\\users\\matts\\appdata\\roaming\\python\\python311\\site-packages (from typer>=0.9.0->chromadb) (8.1.3)\n",
      "Requirement already satisfied: h11>=0.8 in c:\\users\\matts\\appdata\\roaming\\python\\python311\\site-packages (from uvicorn[standard]>=0.18.3->chromadb) (0.14.0)\n",
      "Collecting httptools>=0.5.0\n",
      "  Downloading httptools-0.6.1-cp311-cp311-win_amd64.whl (55 kB)\n",
      "     ---------------------------------------- 0.0/55.4 kB ? eta -:--:--\n",
      "     ---------------------------------------- 55.4/55.4 kB ? eta 0:00:00\n",
      "Requirement already satisfied: python-dotenv>=0.13 in c:\\users\\matts\\appdata\\roaming\\python\\python311\\site-packages (from uvicorn[standard]>=0.18.3->chromadb) (1.0.1)\n",
      "Collecting watchfiles>=0.13\n",
      "  Downloading watchfiles-0.21.0-cp311-none-win_amd64.whl (280 kB)\n",
      "     ---------------------------------------- 0.0/280.1 kB ? eta -:--:--\n",
      "     -------------------------------------  276.5/280.1 kB 8.3 MB/s eta 0:00:01\n",
      "     -------------------------------------- 280.1/280.1 kB 5.7 MB/s eta 0:00:00\n",
      "Collecting websockets>=10.4\n",
      "  Downloading websockets-12.0-cp311-cp311-win_amd64.whl (124 kB)\n",
      "     ---------------------------------------- 0.0/125.0 kB ? eta -:--:--\n",
      "     -------------------------------------- 125.0/125.0 kB 7.6 MB/s eta 0:00:00\n",
      "Requirement already satisfied: cachetools<6.0,>=2.0.0 in c:\\users\\matts\\appdata\\roaming\\python\\python311\\site-packages (from google-auth>=1.0.1->kubernetes>=28.1.0->chromadb) (5.3.0)\n",
      "Requirement already satisfied: pyasn1-modules>=0.2.1 in c:\\users\\matts\\appdata\\roaming\\python\\python311\\site-packages (from google-auth>=1.0.1->kubernetes>=28.1.0->chromadb) (0.2.8)\n",
      "Requirement already satisfied: rsa<5,>=3.1.4 in c:\\users\\matts\\appdata\\roaming\\python\\python311\\site-packages (from google-auth>=1.0.1->kubernetes>=28.1.0->chromadb) (4.9)\n",
      "Requirement already satisfied: zipp>=0.5 in c:\\users\\matts\\appdata\\roaming\\python\\python311\\site-packages (from importlib-metadata<7.0,>=6.0->opentelemetry-api>=1.2.0->chromadb) (3.15.0)\n",
      "Requirement already satisfied: anyio<5,>=3.4.0 in c:\\users\\matts\\appdata\\roaming\\python\\python311\\site-packages (from starlette<0.37.0,>=0.36.3->fastapi>=0.95.2->chromadb) (4.3.0)\n",
      "Collecting humanfriendly>=9.1\n",
      "  Downloading humanfriendly-10.0-py2.py3-none-any.whl (86 kB)\n",
      "     ---------------------------------------- 0.0/86.8 kB ? eta -:--:--\n",
      "     ---------------------------------------- 86.8/86.8 kB 5.1 MB/s eta 0:00:00\n",
      "Collecting mpmath>=0.19\n",
      "  Downloading mpmath-1.3.0-py3-none-any.whl (536 kB)\n",
      "     ---------------------------------------- 0.0/536.2 kB ? eta -:--:--\n",
      "     ---------------- -------------------- 235.5/536.2 kB 14.1 MB/s eta 0:00:01\n",
      "     -------------------------------------- 536.2/536.2 kB 6.7 MB/s eta 0:00:00\n",
      "Requirement already satisfied: sniffio>=1.1 in c:\\users\\matts\\appdata\\roaming\\python\\python311\\site-packages (from anyio<5,>=3.4.0->starlette<0.37.0,>=0.36.3->fastapi>=0.95.2->chromadb) (1.3.0)\n",
      "Collecting pyreadline3\n",
      "  Downloading pyreadline3-3.4.1-py3-none-any.whl (95 kB)\n",
      "     ---------------------------------------- 0.0/95.2 kB ? eta -:--:--\n",
      "     ---------------------------------------- 95.2/95.2 kB 5.7 MB/s eta 0:00:00\n",
      "Requirement already satisfied: pyasn1<0.5.0,>=0.4.6 in c:\\users\\matts\\appdata\\roaming\\python\\python311\\site-packages (from pyasn1-modules>=0.2.1->google-auth>=1.0.1->kubernetes>=28.1.0->chromadb) (0.4.8)\n",
      "Building wheels for collected packages: pypika\n",
      "  Building wheel for pypika (pyproject.toml): started\n",
      "  Building wheel for pypika (pyproject.toml): finished with status 'done'\n",
      "  Created wheel for pypika: filename=PyPika-0.48.9-py2.py3-none-any.whl size=53835 sha256=110cf7c89485634705506fde34ebd1038e0d3741fa9d99b9a5e67b909ede4f50\n",
      "  Stored in directory: c:\\users\\matts\\appdata\\local\\pip\\cache\\wheels\\a3\\01\\bd\\4c40ceb9d5354160cb186dcc153360f4ab7eb23e2b24daf96d\n",
      "Successfully built pypika\n",
      "Installing collected packages: pyreadline3, pypika, mpmath, monotonic, mmh3, websockets, websocket-client, tenacity, sympy, PyYAML, pyproject_hooks, pulsar-client, overrides, opentelemetry-util-http, opentelemetry-semantic-conventions, opentelemetry-proto, numpy, importlib-resources, humanfriendly, httptools, googleapis-common-protos, deprecated, bcrypt, backoff, watchfiles, uvicorn, typer, starlette, posthog, opentelemetry-exporter-otlp-proto-common, opentelemetry-api, coloredlogs, chroma-hnswlib, build, opentelemetry-sdk, opentelemetry-instrumentation, onnxruntime, kubernetes, fastapi, opentelemetry-instrumentation-asgi, opentelemetry-exporter-otlp-proto-grpc, opentelemetry-instrumentation-fastapi, chromadb\n",
      "  Attempting uninstall: tenacity\n",
      "    Found existing installation: tenacity 8.2.2\n",
      "    Uninstalling tenacity-8.2.2:\n",
      "      Successfully uninstalled tenacity-8.2.2\n",
      "  Attempting uninstall: PyYAML\n",
      "    Found existing installation: PyYAML 5.4.1\n",
      "    Uninstalling PyYAML-5.4.1:\n",
      "      Successfully uninstalled PyYAML-5.4.1\n",
      "  Attempting uninstall: numpy\n",
      "    Found existing installation: numpy 1.23.5\n",
      "    Uninstalling numpy-1.23.5:\n",
      "      Successfully uninstalled numpy-1.23.5\n"
     ]
    },
    {
     "name": "stderr",
     "output_type": "stream",
     "text": [
      "ERROR: Could not install packages due to an OSError: [WinError 5] Acceso denegado: 'C:\\\\Users\\\\matts\\\\AppData\\\\Roaming\\\\Python\\\\Python311\\\\site-packages\\\\~-mpy\\\\.libs\\\\libopenblas.FB5AE2TYXYH2IJRDKGDGQ3XBKLKTF43H.gfortran-win_amd64.dll'\n",
      "Check the permissions.\n",
      "\n",
      "\n",
      "[notice] A new release of pip is available: 23.0.1 -> 24.0\n",
      "[notice] To update, run: python.exe -m pip install --upgrade pip\n",
      "C:\\Users\\matts\\AppData\\Roaming\\Python\\Python311\\site-packages\\IPython\\utils\\_process_win32.py:124: ResourceWarning: unclosed file <_io.BufferedWriter name=5>\n",
      "  return process_handler(cmd, _system_body)\n",
      "ResourceWarning: Enable tracemalloc to get the object allocation traceback\n",
      "C:\\Users\\matts\\AppData\\Roaming\\Python\\Python311\\site-packages\\IPython\\utils\\_process_win32.py:124: ResourceWarning: unclosed file <_io.BufferedReader name=6>\n",
      "  return process_handler(cmd, _system_body)\n",
      "ResourceWarning: Enable tracemalloc to get the object allocation traceback\n",
      "C:\\Users\\matts\\AppData\\Roaming\\Python\\Python311\\site-packages\\IPython\\utils\\_process_win32.py:124: ResourceWarning: unclosed file <_io.BufferedReader name=7>\n",
      "  return process_handler(cmd, _system_body)\n",
      "ResourceWarning: Enable tracemalloc to get the object allocation traceback\n",
      "sys:1: ResourceWarning: Unclosed socket <zmq.Socket(zmq.PUSH) at 0x281256a0bb0>\n",
      "ResourceWarning: Enable tracemalloc to get the object allocation traceback\n",
      "sys:1: ResourceWarning: Unclosed socket <zmq.Socket(zmq.PUSH) at 0x281256a0c20>\n",
      "ResourceWarning: Enable tracemalloc to get the object allocation traceback\n"
     ]
    }
   ],
   "source": [
    "! pip install chromadb"
   ]
  },
  {
   "cell_type": "code",
   "execution_count": 62,
   "metadata": {},
   "outputs": [
    {
     "ename": "RateLimitError",
     "evalue": "Error code: 429 - {'error': {'message': 'You exceeded your current quota, please check your plan and billing details. For more information on this error, read the docs: https://platform.openai.com/docs/guides/error-codes/api-errors.', 'type': 'insufficient_quota', 'param': None, 'code': 'insufficient_quota'}}",
     "output_type": "error",
     "traceback": [
      "\u001b[1;31m---------------------------------------------------------------------------\u001b[0m",
      "\u001b[1;31mRateLimitError\u001b[0m                            Traceback (most recent call last)",
      "Cell \u001b[1;32mIn[62], line 1\u001b[0m\n\u001b[1;32m----> 1\u001b[0m save_to_chroma(chunks)\n",
      "Cell \u001b[1;32mIn[61], line 7\u001b[0m, in \u001b[0;36msave_to_chroma\u001b[1;34m(chunks)\u001b[0m\n\u001b[0;32m      4\u001b[0m     shutil\u001b[39m.\u001b[39mrmtree(CHROMA_PATH)\n\u001b[0;32m      6\u001b[0m \u001b[39m# Create a new DB from the documents.\u001b[39;00m\n\u001b[1;32m----> 7\u001b[0m db \u001b[39m=\u001b[39m Chroma\u001b[39m.\u001b[39;49mfrom_documents(\n\u001b[0;32m      8\u001b[0m     chunks, OpenAIEmbeddings(), persist_directory\u001b[39m=\u001b[39;49mCHROMA_PATH\n\u001b[0;32m      9\u001b[0m )\n\u001b[0;32m     10\u001b[0m db\u001b[39m.\u001b[39mpersist()\n\u001b[0;32m     11\u001b[0m \u001b[39mprint\u001b[39m(\u001b[39mf\u001b[39m\u001b[39m\"\u001b[39m\u001b[39mSaved \u001b[39m\u001b[39m{\u001b[39;00m\u001b[39mlen\u001b[39m(chunks)\u001b[39m}\u001b[39;00m\u001b[39m chunks to \u001b[39m\u001b[39m{\u001b[39;00mCHROMA_PATH\u001b[39m}\u001b[39;00m\u001b[39m.\u001b[39m\u001b[39m\"\u001b[39m)\n",
      "File \u001b[1;32m~\\AppData\\Roaming\\Python\\Python311\\site-packages\\langchain_community\\vectorstores\\chroma.py:778\u001b[0m, in \u001b[0;36mChroma.from_documents\u001b[1;34m(cls, documents, embedding, ids, collection_name, persist_directory, client_settings, client, collection_metadata, **kwargs)\u001b[0m\n\u001b[0;32m    776\u001b[0m texts \u001b[39m=\u001b[39m [doc\u001b[39m.\u001b[39mpage_content \u001b[39mfor\u001b[39;00m doc \u001b[39min\u001b[39;00m documents]\n\u001b[0;32m    777\u001b[0m metadatas \u001b[39m=\u001b[39m [doc\u001b[39m.\u001b[39mmetadata \u001b[39mfor\u001b[39;00m doc \u001b[39min\u001b[39;00m documents]\n\u001b[1;32m--> 778\u001b[0m \u001b[39mreturn\u001b[39;00m \u001b[39mcls\u001b[39;49m\u001b[39m.\u001b[39;49mfrom_texts(\n\u001b[0;32m    779\u001b[0m     texts\u001b[39m=\u001b[39;49mtexts,\n\u001b[0;32m    780\u001b[0m     embedding\u001b[39m=\u001b[39;49membedding,\n\u001b[0;32m    781\u001b[0m     metadatas\u001b[39m=\u001b[39;49mmetadatas,\n\u001b[0;32m    782\u001b[0m     ids\u001b[39m=\u001b[39;49mids,\n\u001b[0;32m    783\u001b[0m     collection_name\u001b[39m=\u001b[39;49mcollection_name,\n\u001b[0;32m    784\u001b[0m     persist_directory\u001b[39m=\u001b[39;49mpersist_directory,\n\u001b[0;32m    785\u001b[0m     client_settings\u001b[39m=\u001b[39;49mclient_settings,\n\u001b[0;32m    786\u001b[0m     client\u001b[39m=\u001b[39;49mclient,\n\u001b[0;32m    787\u001b[0m     collection_metadata\u001b[39m=\u001b[39;49mcollection_metadata,\n\u001b[0;32m    788\u001b[0m     \u001b[39m*\u001b[39;49m\u001b[39m*\u001b[39;49mkwargs,\n\u001b[0;32m    789\u001b[0m )\n",
      "File \u001b[1;32m~\\AppData\\Roaming\\Python\\Python311\\site-packages\\langchain_community\\vectorstores\\chroma.py:736\u001b[0m, in \u001b[0;36mChroma.from_texts\u001b[1;34m(cls, texts, embedding, metadatas, ids, collection_name, persist_directory, client_settings, client, collection_metadata, **kwargs)\u001b[0m\n\u001b[0;32m    728\u001b[0m     \u001b[39mfrom\u001b[39;00m \u001b[39mchromadb\u001b[39;00m\u001b[39m.\u001b[39;00m\u001b[39mutils\u001b[39;00m\u001b[39m.\u001b[39;00m\u001b[39mbatch_utils\u001b[39;00m \u001b[39mimport\u001b[39;00m create_batches\n\u001b[0;32m    730\u001b[0m     \u001b[39mfor\u001b[39;00m batch \u001b[39min\u001b[39;00m create_batches(\n\u001b[0;32m    731\u001b[0m         api\u001b[39m=\u001b[39mchroma_collection\u001b[39m.\u001b[39m_client,\n\u001b[0;32m    732\u001b[0m         ids\u001b[39m=\u001b[39mids,\n\u001b[0;32m    733\u001b[0m         metadatas\u001b[39m=\u001b[39mmetadatas,\n\u001b[0;32m    734\u001b[0m         documents\u001b[39m=\u001b[39mtexts,\n\u001b[0;32m    735\u001b[0m     ):\n\u001b[1;32m--> 736\u001b[0m         chroma_collection\u001b[39m.\u001b[39;49madd_texts(\n\u001b[0;32m    737\u001b[0m             texts\u001b[39m=\u001b[39;49mbatch[\u001b[39m3\u001b[39;49m] \u001b[39mif\u001b[39;49;00m batch[\u001b[39m3\u001b[39;49m] \u001b[39melse\u001b[39;49;00m [],\n\u001b[0;32m    738\u001b[0m             metadatas\u001b[39m=\u001b[39;49mbatch[\u001b[39m2\u001b[39;49m] \u001b[39mif\u001b[39;49;00m batch[\u001b[39m2\u001b[39;49m] \u001b[39melse\u001b[39;49;00m \u001b[39mNone\u001b[39;49;00m,\n\u001b[0;32m    739\u001b[0m             ids\u001b[39m=\u001b[39;49mbatch[\u001b[39m0\u001b[39;49m],\n\u001b[0;32m    740\u001b[0m         )\n\u001b[0;32m    741\u001b[0m \u001b[39melse\u001b[39;00m:\n\u001b[0;32m    742\u001b[0m     chroma_collection\u001b[39m.\u001b[39madd_texts(texts\u001b[39m=\u001b[39mtexts, metadatas\u001b[39m=\u001b[39mmetadatas, ids\u001b[39m=\u001b[39mids)\n",
      "File \u001b[1;32m~\\AppData\\Roaming\\Python\\Python311\\site-packages\\langchain_community\\vectorstores\\chroma.py:275\u001b[0m, in \u001b[0;36mChroma.add_texts\u001b[1;34m(self, texts, metadatas, ids, **kwargs)\u001b[0m\n\u001b[0;32m    273\u001b[0m texts \u001b[39m=\u001b[39m \u001b[39mlist\u001b[39m(texts)\n\u001b[0;32m    274\u001b[0m \u001b[39mif\u001b[39;00m \u001b[39mself\u001b[39m\u001b[39m.\u001b[39m_embedding_function \u001b[39mis\u001b[39;00m \u001b[39mnot\u001b[39;00m \u001b[39mNone\u001b[39;00m:\n\u001b[1;32m--> 275\u001b[0m     embeddings \u001b[39m=\u001b[39m \u001b[39mself\u001b[39;49m\u001b[39m.\u001b[39;49m_embedding_function\u001b[39m.\u001b[39;49membed_documents(texts)\n\u001b[0;32m    276\u001b[0m \u001b[39mif\u001b[39;00m metadatas:\n\u001b[0;32m    277\u001b[0m     \u001b[39m# fill metadatas with empty dicts if somebody\u001b[39;00m\n\u001b[0;32m    278\u001b[0m     \u001b[39m# did not specify metadata for all texts\u001b[39;00m\n\u001b[0;32m    279\u001b[0m     length_diff \u001b[39m=\u001b[39m \u001b[39mlen\u001b[39m(texts) \u001b[39m-\u001b[39m \u001b[39mlen\u001b[39m(metadatas)\n",
      "File \u001b[1;32m~\\AppData\\Roaming\\Python\\Python311\\site-packages\\langchain_community\\embeddings\\openai.py:668\u001b[0m, in \u001b[0;36mOpenAIEmbeddings.embed_documents\u001b[1;34m(self, texts, chunk_size)\u001b[0m\n\u001b[0;32m    665\u001b[0m \u001b[39m# NOTE: to keep things simple, we assume the list may contain texts longer\u001b[39;00m\n\u001b[0;32m    666\u001b[0m \u001b[39m#       than the maximum context and use length-safe embedding function.\u001b[39;00m\n\u001b[0;32m    667\u001b[0m engine \u001b[39m=\u001b[39m cast(\u001b[39mstr\u001b[39m, \u001b[39mself\u001b[39m\u001b[39m.\u001b[39mdeployment)\n\u001b[1;32m--> 668\u001b[0m \u001b[39mreturn\u001b[39;00m \u001b[39mself\u001b[39;49m\u001b[39m.\u001b[39;49m_get_len_safe_embeddings(texts, engine\u001b[39m=\u001b[39;49mengine)\n",
      "File \u001b[1;32m~\\AppData\\Roaming\\Python\\Python311\\site-packages\\langchain_community\\embeddings\\openai.py:494\u001b[0m, in \u001b[0;36mOpenAIEmbeddings._get_len_safe_embeddings\u001b[1;34m(self, texts, engine, chunk_size)\u001b[0m\n\u001b[0;32m    492\u001b[0m batched_embeddings: List[List[\u001b[39mfloat\u001b[39m]] \u001b[39m=\u001b[39m []\n\u001b[0;32m    493\u001b[0m \u001b[39mfor\u001b[39;00m i \u001b[39min\u001b[39;00m _iter:\n\u001b[1;32m--> 494\u001b[0m     response \u001b[39m=\u001b[39m embed_with_retry(\n\u001b[0;32m    495\u001b[0m         \u001b[39mself\u001b[39;49m,\n\u001b[0;32m    496\u001b[0m         \u001b[39minput\u001b[39;49m\u001b[39m=\u001b[39;49mtokens[i : i \u001b[39m+\u001b[39;49m _chunk_size],\n\u001b[0;32m    497\u001b[0m         \u001b[39m*\u001b[39;49m\u001b[39m*\u001b[39;49m\u001b[39mself\u001b[39;49m\u001b[39m.\u001b[39;49m_invocation_params,\n\u001b[0;32m    498\u001b[0m     )\n\u001b[0;32m    499\u001b[0m     \u001b[39mif\u001b[39;00m \u001b[39mnot\u001b[39;00m \u001b[39misinstance\u001b[39m(response, \u001b[39mdict\u001b[39m):\n\u001b[0;32m    500\u001b[0m         response \u001b[39m=\u001b[39m response\u001b[39m.\u001b[39mdict()\n",
      "File \u001b[1;32m~\\AppData\\Roaming\\Python\\Python311\\site-packages\\langchain_community\\embeddings\\openai.py:116\u001b[0m, in \u001b[0;36membed_with_retry\u001b[1;34m(embeddings, **kwargs)\u001b[0m\n\u001b[0;32m    114\u001b[0m \u001b[39m\u001b[39m\u001b[39m\"\"\"Use tenacity to retry the embedding call.\"\"\"\u001b[39;00m\n\u001b[0;32m    115\u001b[0m \u001b[39mif\u001b[39;00m is_openai_v1():\n\u001b[1;32m--> 116\u001b[0m     \u001b[39mreturn\u001b[39;00m embeddings\u001b[39m.\u001b[39;49mclient\u001b[39m.\u001b[39;49mcreate(\u001b[39m*\u001b[39;49m\u001b[39m*\u001b[39;49mkwargs)\n\u001b[0;32m    117\u001b[0m retry_decorator \u001b[39m=\u001b[39m _create_retry_decorator(embeddings)\n\u001b[0;32m    119\u001b[0m \u001b[39m@retry_decorator\u001b[39m\n\u001b[0;32m    120\u001b[0m \u001b[39mdef\u001b[39;00m \u001b[39m_embed_with_retry\u001b[39m(\u001b[39m*\u001b[39m\u001b[39m*\u001b[39mkwargs: Any) \u001b[39m-\u001b[39m\u001b[39m>\u001b[39m Any:\n",
      "File \u001b[1;32m~\\AppData\\Roaming\\Python\\Python311\\site-packages\\openai\\resources\\embeddings.py:113\u001b[0m, in \u001b[0;36mEmbeddings.create\u001b[1;34m(self, input, model, dimensions, encoding_format, user, extra_headers, extra_query, extra_body, timeout)\u001b[0m\n\u001b[0;32m    107\u001b[0m         embedding\u001b[39m.\u001b[39membedding \u001b[39m=\u001b[39m np\u001b[39m.\u001b[39mfrombuffer(  \u001b[39m# type: ignore[no-untyped-call]\u001b[39;00m\n\u001b[0;32m    108\u001b[0m             base64\u001b[39m.\u001b[39mb64decode(data), dtype\u001b[39m=\u001b[39m\u001b[39m\"\u001b[39m\u001b[39mfloat32\u001b[39m\u001b[39m\"\u001b[39m\n\u001b[0;32m    109\u001b[0m         )\u001b[39m.\u001b[39mtolist()\n\u001b[0;32m    111\u001b[0m     \u001b[39mreturn\u001b[39;00m obj\n\u001b[1;32m--> 113\u001b[0m \u001b[39mreturn\u001b[39;00m \u001b[39mself\u001b[39;49m\u001b[39m.\u001b[39;49m_post(\n\u001b[0;32m    114\u001b[0m     \u001b[39m\"\u001b[39;49m\u001b[39m/embeddings\u001b[39;49m\u001b[39m\"\u001b[39;49m,\n\u001b[0;32m    115\u001b[0m     body\u001b[39m=\u001b[39;49mmaybe_transform(params, embedding_create_params\u001b[39m.\u001b[39;49mEmbeddingCreateParams),\n\u001b[0;32m    116\u001b[0m     options\u001b[39m=\u001b[39;49mmake_request_options(\n\u001b[0;32m    117\u001b[0m         extra_headers\u001b[39m=\u001b[39;49mextra_headers,\n\u001b[0;32m    118\u001b[0m         extra_query\u001b[39m=\u001b[39;49mextra_query,\n\u001b[0;32m    119\u001b[0m         extra_body\u001b[39m=\u001b[39;49mextra_body,\n\u001b[0;32m    120\u001b[0m         timeout\u001b[39m=\u001b[39;49mtimeout,\n\u001b[0;32m    121\u001b[0m         post_parser\u001b[39m=\u001b[39;49mparser,\n\u001b[0;32m    122\u001b[0m     ),\n\u001b[0;32m    123\u001b[0m     cast_to\u001b[39m=\u001b[39;49mCreateEmbeddingResponse,\n\u001b[0;32m    124\u001b[0m )\n",
      "File \u001b[1;32m~\\AppData\\Roaming\\Python\\Python311\\site-packages\\openai\\_base_client.py:1208\u001b[0m, in \u001b[0;36mSyncAPIClient.post\u001b[1;34m(self, path, cast_to, body, options, files, stream, stream_cls)\u001b[0m\n\u001b[0;32m   1194\u001b[0m \u001b[39mdef\u001b[39;00m \u001b[39mpost\u001b[39m(\n\u001b[0;32m   1195\u001b[0m     \u001b[39mself\u001b[39m,\n\u001b[0;32m   1196\u001b[0m     path: \u001b[39mstr\u001b[39m,\n\u001b[1;32m   (...)\u001b[0m\n\u001b[0;32m   1203\u001b[0m     stream_cls: \u001b[39mtype\u001b[39m[_StreamT] \u001b[39m|\u001b[39m \u001b[39mNone\u001b[39;00m \u001b[39m=\u001b[39m \u001b[39mNone\u001b[39;00m,\n\u001b[0;32m   1204\u001b[0m ) \u001b[39m-\u001b[39m\u001b[39m>\u001b[39m ResponseT \u001b[39m|\u001b[39m _StreamT:\n\u001b[0;32m   1205\u001b[0m     opts \u001b[39m=\u001b[39m FinalRequestOptions\u001b[39m.\u001b[39mconstruct(\n\u001b[0;32m   1206\u001b[0m         method\u001b[39m=\u001b[39m\u001b[39m\"\u001b[39m\u001b[39mpost\u001b[39m\u001b[39m\"\u001b[39m, url\u001b[39m=\u001b[39mpath, json_data\u001b[39m=\u001b[39mbody, files\u001b[39m=\u001b[39mto_httpx_files(files), \u001b[39m*\u001b[39m\u001b[39m*\u001b[39moptions\n\u001b[0;32m   1207\u001b[0m     )\n\u001b[1;32m-> 1208\u001b[0m     \u001b[39mreturn\u001b[39;00m cast(ResponseT, \u001b[39mself\u001b[39;49m\u001b[39m.\u001b[39;49mrequest(cast_to, opts, stream\u001b[39m=\u001b[39;49mstream, stream_cls\u001b[39m=\u001b[39;49mstream_cls))\n",
      "File \u001b[1;32m~\\AppData\\Roaming\\Python\\Python311\\site-packages\\openai\\_base_client.py:897\u001b[0m, in \u001b[0;36mSyncAPIClient.request\u001b[1;34m(self, cast_to, options, remaining_retries, stream, stream_cls)\u001b[0m\n\u001b[0;32m    888\u001b[0m \u001b[39mdef\u001b[39;00m \u001b[39mrequest\u001b[39m(\n\u001b[0;32m    889\u001b[0m     \u001b[39mself\u001b[39m,\n\u001b[0;32m    890\u001b[0m     cast_to: Type[ResponseT],\n\u001b[1;32m   (...)\u001b[0m\n\u001b[0;32m    895\u001b[0m     stream_cls: \u001b[39mtype\u001b[39m[_StreamT] \u001b[39m|\u001b[39m \u001b[39mNone\u001b[39;00m \u001b[39m=\u001b[39m \u001b[39mNone\u001b[39;00m,\n\u001b[0;32m    896\u001b[0m ) \u001b[39m-\u001b[39m\u001b[39m>\u001b[39m ResponseT \u001b[39m|\u001b[39m _StreamT:\n\u001b[1;32m--> 897\u001b[0m     \u001b[39mreturn\u001b[39;00m \u001b[39mself\u001b[39;49m\u001b[39m.\u001b[39;49m_request(\n\u001b[0;32m    898\u001b[0m         cast_to\u001b[39m=\u001b[39;49mcast_to,\n\u001b[0;32m    899\u001b[0m         options\u001b[39m=\u001b[39;49moptions,\n\u001b[0;32m    900\u001b[0m         stream\u001b[39m=\u001b[39;49mstream,\n\u001b[0;32m    901\u001b[0m         stream_cls\u001b[39m=\u001b[39;49mstream_cls,\n\u001b[0;32m    902\u001b[0m         remaining_retries\u001b[39m=\u001b[39;49mremaining_retries,\n\u001b[0;32m    903\u001b[0m     )\n",
      "File \u001b[1;32m~\\AppData\\Roaming\\Python\\Python311\\site-packages\\openai\\_base_client.py:973\u001b[0m, in \u001b[0;36mSyncAPIClient._request\u001b[1;34m(self, cast_to, options, remaining_retries, stream, stream_cls)\u001b[0m\n\u001b[0;32m    971\u001b[0m \u001b[39mif\u001b[39;00m retries \u001b[39m>\u001b[39m \u001b[39m0\u001b[39m \u001b[39mand\u001b[39;00m \u001b[39mself\u001b[39m\u001b[39m.\u001b[39m_should_retry(err\u001b[39m.\u001b[39mresponse):\n\u001b[0;32m    972\u001b[0m     err\u001b[39m.\u001b[39mresponse\u001b[39m.\u001b[39mclose()\n\u001b[1;32m--> 973\u001b[0m     \u001b[39mreturn\u001b[39;00m \u001b[39mself\u001b[39;49m\u001b[39m.\u001b[39;49m_retry_request(\n\u001b[0;32m    974\u001b[0m         options,\n\u001b[0;32m    975\u001b[0m         cast_to,\n\u001b[0;32m    976\u001b[0m         retries,\n\u001b[0;32m    977\u001b[0m         err\u001b[39m.\u001b[39;49mresponse\u001b[39m.\u001b[39;49mheaders,\n\u001b[0;32m    978\u001b[0m         stream\u001b[39m=\u001b[39;49mstream,\n\u001b[0;32m    979\u001b[0m         stream_cls\u001b[39m=\u001b[39;49mstream_cls,\n\u001b[0;32m    980\u001b[0m     )\n\u001b[0;32m    982\u001b[0m \u001b[39m# If the response is streamed then we need to explicitly read the response\u001b[39;00m\n\u001b[0;32m    983\u001b[0m \u001b[39m# to completion before attempting to access the response text.\u001b[39;00m\n\u001b[0;32m    984\u001b[0m \u001b[39mif\u001b[39;00m \u001b[39mnot\u001b[39;00m err\u001b[39m.\u001b[39mresponse\u001b[39m.\u001b[39mis_closed:\n",
      "File \u001b[1;32m~\\AppData\\Roaming\\Python\\Python311\\site-packages\\openai\\_base_client.py:1021\u001b[0m, in \u001b[0;36mSyncAPIClient._retry_request\u001b[1;34m(self, options, cast_to, remaining_retries, response_headers, stream, stream_cls)\u001b[0m\n\u001b[0;32m   1017\u001b[0m \u001b[39m# In a synchronous context we are blocking the entire thread. Up to the library user to run the client in a\u001b[39;00m\n\u001b[0;32m   1018\u001b[0m \u001b[39m# different thread if necessary.\u001b[39;00m\n\u001b[0;32m   1019\u001b[0m time\u001b[39m.\u001b[39msleep(timeout)\n\u001b[1;32m-> 1021\u001b[0m \u001b[39mreturn\u001b[39;00m \u001b[39mself\u001b[39;49m\u001b[39m.\u001b[39;49m_request(\n\u001b[0;32m   1022\u001b[0m     options\u001b[39m=\u001b[39;49moptions,\n\u001b[0;32m   1023\u001b[0m     cast_to\u001b[39m=\u001b[39;49mcast_to,\n\u001b[0;32m   1024\u001b[0m     remaining_retries\u001b[39m=\u001b[39;49mremaining,\n\u001b[0;32m   1025\u001b[0m     stream\u001b[39m=\u001b[39;49mstream,\n\u001b[0;32m   1026\u001b[0m     stream_cls\u001b[39m=\u001b[39;49mstream_cls,\n\u001b[0;32m   1027\u001b[0m )\n",
      "File \u001b[1;32m~\\AppData\\Roaming\\Python\\Python311\\site-packages\\openai\\_base_client.py:973\u001b[0m, in \u001b[0;36mSyncAPIClient._request\u001b[1;34m(self, cast_to, options, remaining_retries, stream, stream_cls)\u001b[0m\n\u001b[0;32m    971\u001b[0m \u001b[39mif\u001b[39;00m retries \u001b[39m>\u001b[39m \u001b[39m0\u001b[39m \u001b[39mand\u001b[39;00m \u001b[39mself\u001b[39m\u001b[39m.\u001b[39m_should_retry(err\u001b[39m.\u001b[39mresponse):\n\u001b[0;32m    972\u001b[0m     err\u001b[39m.\u001b[39mresponse\u001b[39m.\u001b[39mclose()\n\u001b[1;32m--> 973\u001b[0m     \u001b[39mreturn\u001b[39;00m \u001b[39mself\u001b[39;49m\u001b[39m.\u001b[39;49m_retry_request(\n\u001b[0;32m    974\u001b[0m         options,\n\u001b[0;32m    975\u001b[0m         cast_to,\n\u001b[0;32m    976\u001b[0m         retries,\n\u001b[0;32m    977\u001b[0m         err\u001b[39m.\u001b[39;49mresponse\u001b[39m.\u001b[39;49mheaders,\n\u001b[0;32m    978\u001b[0m         stream\u001b[39m=\u001b[39;49mstream,\n\u001b[0;32m    979\u001b[0m         stream_cls\u001b[39m=\u001b[39;49mstream_cls,\n\u001b[0;32m    980\u001b[0m     )\n\u001b[0;32m    982\u001b[0m \u001b[39m# If the response is streamed then we need to explicitly read the response\u001b[39;00m\n\u001b[0;32m    983\u001b[0m \u001b[39m# to completion before attempting to access the response text.\u001b[39;00m\n\u001b[0;32m    984\u001b[0m \u001b[39mif\u001b[39;00m \u001b[39mnot\u001b[39;00m err\u001b[39m.\u001b[39mresponse\u001b[39m.\u001b[39mis_closed:\n",
      "File \u001b[1;32m~\\AppData\\Roaming\\Python\\Python311\\site-packages\\openai\\_base_client.py:1021\u001b[0m, in \u001b[0;36mSyncAPIClient._retry_request\u001b[1;34m(self, options, cast_to, remaining_retries, response_headers, stream, stream_cls)\u001b[0m\n\u001b[0;32m   1017\u001b[0m \u001b[39m# In a synchronous context we are blocking the entire thread. Up to the library user to run the client in a\u001b[39;00m\n\u001b[0;32m   1018\u001b[0m \u001b[39m# different thread if necessary.\u001b[39;00m\n\u001b[0;32m   1019\u001b[0m time\u001b[39m.\u001b[39msleep(timeout)\n\u001b[1;32m-> 1021\u001b[0m \u001b[39mreturn\u001b[39;00m \u001b[39mself\u001b[39;49m\u001b[39m.\u001b[39;49m_request(\n\u001b[0;32m   1022\u001b[0m     options\u001b[39m=\u001b[39;49moptions,\n\u001b[0;32m   1023\u001b[0m     cast_to\u001b[39m=\u001b[39;49mcast_to,\n\u001b[0;32m   1024\u001b[0m     remaining_retries\u001b[39m=\u001b[39;49mremaining,\n\u001b[0;32m   1025\u001b[0m     stream\u001b[39m=\u001b[39;49mstream,\n\u001b[0;32m   1026\u001b[0m     stream_cls\u001b[39m=\u001b[39;49mstream_cls,\n\u001b[0;32m   1027\u001b[0m )\n",
      "File \u001b[1;32m~\\AppData\\Roaming\\Python\\Python311\\site-packages\\openai\\_base_client.py:988\u001b[0m, in \u001b[0;36mSyncAPIClient._request\u001b[1;34m(self, cast_to, options, remaining_retries, stream, stream_cls)\u001b[0m\n\u001b[0;32m    985\u001b[0m         err\u001b[39m.\u001b[39mresponse\u001b[39m.\u001b[39mread()\n\u001b[0;32m    987\u001b[0m     log\u001b[39m.\u001b[39mdebug(\u001b[39m\"\u001b[39m\u001b[39mRe-raising status error\u001b[39m\u001b[39m\"\u001b[39m)\n\u001b[1;32m--> 988\u001b[0m     \u001b[39mraise\u001b[39;00m \u001b[39mself\u001b[39m\u001b[39m.\u001b[39m_make_status_error_from_response(err\u001b[39m.\u001b[39mresponse) \u001b[39mfrom\u001b[39;00m \u001b[39mNone\u001b[39m\n\u001b[0;32m    990\u001b[0m \u001b[39mreturn\u001b[39;00m \u001b[39mself\u001b[39m\u001b[39m.\u001b[39m_process_response(\n\u001b[0;32m    991\u001b[0m     cast_to\u001b[39m=\u001b[39mcast_to,\n\u001b[0;32m    992\u001b[0m     options\u001b[39m=\u001b[39moptions,\n\u001b[1;32m   (...)\u001b[0m\n\u001b[0;32m    995\u001b[0m     stream_cls\u001b[39m=\u001b[39mstream_cls,\n\u001b[0;32m    996\u001b[0m )\n",
      "\u001b[1;31mRateLimitError\u001b[0m: Error code: 429 - {'error': {'message': 'You exceeded your current quota, please check your plan and billing details. For more information on this error, read the docs: https://platform.openai.com/docs/guides/error-codes/api-errors.', 'type': 'insufficient_quota', 'param': None, 'code': 'insufficient_quota'}}"
     ]
    }
   ],
   "source": [
    "save_to_chroma(chunks)"
   ]
  },
  {
   "cell_type": "code",
   "execution_count": 33,
   "metadata": {},
   "outputs": [],
   "source": [
    "from langchain_openai import OpenAIEmbeddings\n",
    "\n",
    "embeddings_model = OpenAIEmbeddings()"
   ]
  },
  {
   "cell_type": "markdown",
   "metadata": {},
   "source": [
    "Embed and store the chunks to facilitate the search accross them"
   ]
  }
 ],
 "metadata": {
  "kernelspec": {
   "display_name": "Python 3",
   "language": "python",
   "name": "python3"
  },
  "language_info": {
   "codemirror_mode": {
    "name": "ipython",
    "version": 3
   },
   "file_extension": ".py",
   "mimetype": "text/x-python",
   "name": "python",
   "nbconvert_exporter": "python",
   "pygments_lexer": "ipython3",
   "version": "3.11.1"
  }
 },
 "nbformat": 4,
 "nbformat_minor": 2
}
